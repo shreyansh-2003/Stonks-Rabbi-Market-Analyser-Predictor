{
 "cells": [
  {
   "attachments": {},
   "cell_type": "markdown",
   "id": "7f0f282c",
   "metadata": {},
   "source": [
    "# DATA GATHERING AND PRE-PROCESSIG YFINANCE DATA"
   ]
  },
  {
   "attachments": {},
   "cell_type": "markdown",
   "id": "33c803f8",
   "metadata": {},
   "source": [
    "## Pre-processing and storing NASDAQ rep data\n",
    "The Nasdaq Stock Market is an American stock exchange based in New York City. It is the most active stock trading venue in the US by volume, and ranked second on the list of stock exchanges by market capitalization of shares traded, behind the New York Stock Exchange. "
   ]
  },
  {
   "attachments": {},
   "cell_type": "markdown",
   "id": "cd3caa8f",
   "metadata": {},
   "source": [
    "### Subset of Symbols on NASDAQ\n",
    "__Link:__ https://www.nasdaq.com/market-activity/stocks/screener"
   ]
  },
  {
   "cell_type": "code",
   "execution_count": 2,
   "id": "1c6a98f7",
   "metadata": {},
   "outputs": [],
   "source": [
    "import pandas as pd"
   ]
  },
  {
   "cell_type": "code",
   "execution_count": 3,
   "id": "ee65b008",
   "metadata": {},
   "outputs": [],
   "source": [
    "df_nasdaq = pd.read_csv(\"nasdaq_data.csv\")"
   ]
  },
  {
   "attachments": {},
   "cell_type": "markdown",
   "id": "f7583bf1",
   "metadata": {},
   "source": [
    "##### Dropping rows without IPO Years"
   ]
  },
  {
   "cell_type": "code",
   "execution_count": 4,
   "id": "39efc849",
   "metadata": {},
   "outputs": [],
   "source": [
    "df_nasdaq = df_nasdaq.dropna(subset=['IPO Year'])"
   ]
  },
  {
   "cell_type": "code",
   "execution_count": 5,
   "id": "38b43e39",
   "metadata": {},
   "outputs": [],
   "source": [
    "df_nasdaq.reset_index(inplace=True,drop=True)"
   ]
  },
  {
   "attachments": {},
   "cell_type": "markdown",
   "id": "3b87a716",
   "metadata": {},
   "source": [
    "__Creating new column Max Years__"
   ]
  },
  {
   "cell_type": "code",
   "execution_count": 6,
   "id": "622c3681",
   "metadata": {},
   "outputs": [],
   "source": [
    "df_nasdaq['Max Years'] = 2023 - df_nasdaq[\"IPO Year\"]"
   ]
  },
  {
   "cell_type": "code",
   "execution_count": 7,
   "id": "2de23895",
   "metadata": {},
   "outputs": [
    {
     "data": {
      "text/html": [
       "<div>\n",
       "<style scoped>\n",
       "    .dataframe tbody tr th:only-of-type {\n",
       "        vertical-align: middle;\n",
       "    }\n",
       "\n",
       "    .dataframe tbody tr th {\n",
       "        vertical-align: top;\n",
       "    }\n",
       "\n",
       "    .dataframe thead th {\n",
       "        text-align: right;\n",
       "    }\n",
       "</style>\n",
       "<table border=\"1\" class=\"dataframe\">\n",
       "  <thead>\n",
       "    <tr style=\"text-align: right;\">\n",
       "      <th></th>\n",
       "      <th>Symbol</th>\n",
       "      <th>Name</th>\n",
       "      <th>Last Sale</th>\n",
       "      <th>Net Change</th>\n",
       "      <th>% Change</th>\n",
       "      <th>Market Cap</th>\n",
       "      <th>Country</th>\n",
       "      <th>IPO Year</th>\n",
       "      <th>Volume</th>\n",
       "      <th>Sector</th>\n",
       "      <th>Industry</th>\n",
       "      <th>Max Years</th>\n",
       "    </tr>\n",
       "  </thead>\n",
       "  <tbody>\n",
       "    <tr>\n",
       "      <th>1888</th>\n",
       "      <td>GTAC</td>\n",
       "      <td>Global Technology Acquisition Corp. I Class A ...</td>\n",
       "      <td>$10.42</td>\n",
       "      <td>0.0000</td>\n",
       "      <td>0.00%</td>\n",
       "      <td>0.000000e+00</td>\n",
       "      <td>United States</td>\n",
       "      <td>2021.0</td>\n",
       "      <td>1</td>\n",
       "      <td>Finance</td>\n",
       "      <td>Blank Checks</td>\n",
       "      <td>2.0</td>\n",
       "    </tr>\n",
       "    <tr>\n",
       "      <th>4131</th>\n",
       "      <td>TTD</td>\n",
       "      <td>The Trade Desk Inc. Class A Common Stock</td>\n",
       "      <td>$62.70</td>\n",
       "      <td>1.2600</td>\n",
       "      <td>2.051%</td>\n",
       "      <td>3.060238e+10</td>\n",
       "      <td>United States</td>\n",
       "      <td>2016.0</td>\n",
       "      <td>2431065</td>\n",
       "      <td>Technology</td>\n",
       "      <td>EDP Services</td>\n",
       "      <td>7.0</td>\n",
       "    </tr>\n",
       "    <tr>\n",
       "      <th>3907</th>\n",
       "      <td>STSA</td>\n",
       "      <td>Satsuma Pharmaceuticals Inc. Common Stock</td>\n",
       "      <td>$1.07</td>\n",
       "      <td>0.0200</td>\n",
       "      <td>1.905%</td>\n",
       "      <td>3.547317e+07</td>\n",
       "      <td>United States</td>\n",
       "      <td>2019.0</td>\n",
       "      <td>176488</td>\n",
       "      <td>Health Care</td>\n",
       "      <td>Biotechnology: Pharmaceutical Preparations</td>\n",
       "      <td>4.0</td>\n",
       "    </tr>\n",
       "    <tr>\n",
       "      <th>441</th>\n",
       "      <td>AVGR</td>\n",
       "      <td>Avinger Inc. Common Stock</td>\n",
       "      <td>$0.4723</td>\n",
       "      <td>0.0184</td>\n",
       "      <td>4.054%</td>\n",
       "      <td>4.068632e+06</td>\n",
       "      <td>United States</td>\n",
       "      <td>2015.0</td>\n",
       "      <td>125862</td>\n",
       "      <td>Health Care</td>\n",
       "      <td>Medical/Dental Instruments</td>\n",
       "      <td>8.0</td>\n",
       "    </tr>\n",
       "    <tr>\n",
       "      <th>2686</th>\n",
       "      <td>MLCO</td>\n",
       "      <td>Melco Resorts &amp; Entertainment Limited American...</td>\n",
       "      <td>$13.01</td>\n",
       "      <td>0.2800</td>\n",
       "      <td>2.20%</td>\n",
       "      <td>5.766375e+09</td>\n",
       "      <td>Hong Kong</td>\n",
       "      <td>2006.0</td>\n",
       "      <td>2617939</td>\n",
       "      <td>Consumer Discretionary</td>\n",
       "      <td>Hotels/Resorts</td>\n",
       "      <td>17.0</td>\n",
       "    </tr>\n",
       "  </tbody>\n",
       "</table>\n",
       "</div>"
      ],
      "text/plain": [
       "     Symbol                                               Name Last Sale  \\\n",
       "1888   GTAC  Global Technology Acquisition Corp. I Class A ...    $10.42   \n",
       "4131    TTD           The Trade Desk Inc. Class A Common Stock    $62.70   \n",
       "3907   STSA          Satsuma Pharmaceuticals Inc. Common Stock     $1.07   \n",
       "441    AVGR                          Avinger Inc. Common Stock   $0.4723   \n",
       "2686   MLCO  Melco Resorts & Entertainment Limited American...    $13.01   \n",
       "\n",
       "      Net Change % Change    Market Cap        Country  IPO Year   Volume  \\\n",
       "1888      0.0000    0.00%  0.000000e+00  United States    2021.0        1   \n",
       "4131      1.2600   2.051%  3.060238e+10  United States    2016.0  2431065   \n",
       "3907      0.0200   1.905%  3.547317e+07  United States    2019.0   176488   \n",
       "441       0.0184   4.054%  4.068632e+06  United States    2015.0   125862   \n",
       "2686      0.2800    2.20%  5.766375e+09      Hong Kong    2006.0  2617939   \n",
       "\n",
       "                      Sector                                    Industry  \\\n",
       "1888                 Finance                                Blank Checks   \n",
       "4131              Technology                                EDP Services   \n",
       "3907             Health Care  Biotechnology: Pharmaceutical Preparations   \n",
       "441              Health Care                  Medical/Dental Instruments   \n",
       "2686  Consumer Discretionary                              Hotels/Resorts   \n",
       "\n",
       "      Max Years  \n",
       "1888        2.0  \n",
       "4131        7.0  \n",
       "3907        4.0  \n",
       "441         8.0  \n",
       "2686       17.0  "
      ]
     },
     "execution_count": 7,
     "metadata": {},
     "output_type": "execute_result"
    }
   ],
   "source": [
    "df_nasdaq.sample(5)"
   ]
  },
  {
   "cell_type": "code",
   "execution_count": 8,
   "id": "d86d6cfd",
   "metadata": {},
   "outputs": [
    {
     "data": {
      "text/html": [
       "<div>\n",
       "<style scoped>\n",
       "    .dataframe tbody tr th:only-of-type {\n",
       "        vertical-align: middle;\n",
       "    }\n",
       "\n",
       "    .dataframe tbody tr th {\n",
       "        vertical-align: top;\n",
       "    }\n",
       "\n",
       "    .dataframe thead th {\n",
       "        text-align: right;\n",
       "    }\n",
       "</style>\n",
       "<table border=\"1\" class=\"dataframe\">\n",
       "  <thead>\n",
       "    <tr style=\"text-align: right;\">\n",
       "      <th></th>\n",
       "      <th>Symbol</th>\n",
       "      <th>Name</th>\n",
       "      <th>Max Years</th>\n",
       "    </tr>\n",
       "  </thead>\n",
       "  <tbody>\n",
       "    <tr>\n",
       "      <th>3410</th>\n",
       "      <td>QNCX</td>\n",
       "      <td>Quince Therapeutics Inc. Common Stock</td>\n",
       "      <td>4.0</td>\n",
       "    </tr>\n",
       "    <tr>\n",
       "      <th>172</th>\n",
       "      <td>AIZN</td>\n",
       "      <td>Assurant Inc. 5.25% Subordinated Notes due 2061</td>\n",
       "      <td>3.0</td>\n",
       "    </tr>\n",
       "    <tr>\n",
       "      <th>112</th>\n",
       "      <td>AFCG</td>\n",
       "      <td>AFC Gamma Inc. Common Stock</td>\n",
       "      <td>2.0</td>\n",
       "    </tr>\n",
       "    <tr>\n",
       "      <th>1625</th>\n",
       "      <td>FOXF</td>\n",
       "      <td>Fox Factory Holding Corp. Common Stock</td>\n",
       "      <td>10.0</td>\n",
       "    </tr>\n",
       "    <tr>\n",
       "      <th>480</th>\n",
       "      <td>BAH</td>\n",
       "      <td>Booz Allen Hamilton Holding Corporation Common...</td>\n",
       "      <td>13.0</td>\n",
       "    </tr>\n",
       "  </tbody>\n",
       "</table>\n",
       "</div>"
      ],
      "text/plain": [
       "     Symbol                                               Name  Max Years\n",
       "3410   QNCX              Quince Therapeutics Inc. Common Stock        4.0\n",
       "172    AIZN    Assurant Inc. 5.25% Subordinated Notes due 2061        3.0\n",
       "112    AFCG                        AFC Gamma Inc. Common Stock        2.0\n",
       "1625   FOXF             Fox Factory Holding Corp. Common Stock       10.0\n",
       "480     BAH  Booz Allen Hamilton Holding Corporation Common...       13.0"
      ]
     },
     "execution_count": 8,
     "metadata": {},
     "output_type": "execute_result"
    }
   ],
   "source": [
    "df_nasdaq[[\"Symbol\",\"Name\",\"Max Years\"]].sample(5)"
   ]
  },
  {
   "cell_type": "code",
   "execution_count": 9,
   "id": "115e4098",
   "metadata": {},
   "outputs": [],
   "source": [
    "meta_arr = df_nasdaq[[\"Symbol\",\"Name\",\"Max Years\"]].values"
   ]
  },
  {
   "cell_type": "code",
   "execution_count": 10,
   "id": "3a873cc8",
   "metadata": {},
   "outputs": [
    {
     "data": {
      "text/plain": [
       "4524"
      ]
     },
     "execution_count": 10,
     "metadata": {},
     "output_type": "execute_result"
    }
   ],
   "source": [
    "len(meta_arr)"
   ]
  },
  {
   "attachments": {},
   "cell_type": "markdown",
   "id": "42abc6b5",
   "metadata": {},
   "source": [
    "## Creating a collection of metadata with all the info of the companies"
   ]
  },
  {
   "cell_type": "code",
   "execution_count": 11,
   "id": "f2da0412",
   "metadata": {},
   "outputs": [],
   "source": [
    "import yfinance as yf\n",
    "from pymongo import MongoClient\n",
    "\n",
    "# Define the MongoDB connection\n",
    "client = MongoClient('mongodb://localhost:27017/')\n",
    "db = client['finance']\n",
    "collection = db['tickers_meta']"
   ]
  },
  {
   "cell_type": "code",
   "execution_count": 10,
   "id": "1e3458e0",
   "metadata": {},
   "outputs": [],
   "source": [
    "def query_ticker(symbol):\n",
    "    # Query the ticker data using yfinance\n",
    "    ticker_data = yf.Ticker(symbol).info\n",
    "    return ticker_data\n",
    "\n",
    "def insert_ticker_data(data):\n",
    "    # Insert the ticker data into the MongoDB collection\n",
    "    collection.insert_one(data)"
   ]
  },
  {
   "cell_type": "code",
   "execution_count": null,
   "id": "4fa7f45f",
   "metadata": {},
   "outputs": [],
   "source": [
    "for symbol in meta_arr:\n",
    "    \n",
    "    symbol_data = {'Symbol': symbol[0],\n",
    "                   'Name': symbol[1],\n",
    "                   'Max Years': symbol[2],\n",
    "                   'Data': query_ticker(symbol[0])}\n",
    "    \n",
    "    insert_ticker_data(symbol_data)"
   ]
  },
  {
   "attachments": {},
   "cell_type": "markdown",
   "id": "68150dd7",
   "metadata": {},
   "source": [
    "## Extracting the common features amongs all collections for easier comparison"
   ]
  },
  {
   "cell_type": "code",
   "execution_count": 2,
   "id": "416eb49b",
   "metadata": {},
   "outputs": [
    {
     "name": "stdout",
     "output_type": "stream",
     "text": [
      "{'attribute': 'symbol'}\n",
      "{'attribute': 'previousClose'}\n",
      "{'attribute': 'regularMarketVolume'}\n",
      "{'attribute': 'gmtOffSetMilliseconds'}\n",
      "{'attribute': 'volume'}\n",
      "{'attribute': 'uuid'}\n",
      "{'attribute': 'regularMarketDayHigh'}\n",
      "{'attribute': 'timeZoneShortName'}\n",
      "{'attribute': 'dayLow'}\n",
      "{'attribute': 'regularMarketDayLow'}\n",
      "{'attribute': 'timeZoneFullName'}\n",
      "{'attribute': 'quoteType'}\n",
      "{'attribute': 'regularMarketPreviousClose'}\n",
      "{'attribute': 'fiftyTwoWeekLow'}\n",
      "{'attribute': 'maxAge'}\n",
      "{'attribute': 'priceHint'}\n",
      "{'attribute': 'trailingPegRatio'}\n",
      "{'attribute': 'exchange'}\n",
      "{'attribute': 'underlyingSymbol'}\n",
      "{'attribute': 'dayHigh'}\n",
      "{'attribute': 'fiftyTwoWeekHigh'}\n"
     ]
    }
   ],
   "source": [
    "match_query = { \"Data\": { \"$exists\": True } }\n",
    "document_count = db.tickers_meta.count_documents(match_query)\n",
    "\n",
    "pipeline = [\n",
    "    { \"$match\": match_query },\n",
    "    { \"$project\": { \"dataFields\": { \"$objectToArray\": \"$Data\" } } },\n",
    "    { \"$unwind\": \"$dataFields\" },\n",
    "    { \"$group\": { \"_id\": \"$dataFields.k\", \"count\": { \"$sum\": 1 } } },\n",
    "    { \"$match\": { \"count\": document_count } },\n",
    "    { \"$project\": { \"_id\": 0, \"attribute\": \"$_id\" } }\n",
    "]\n",
    "\n",
    "results = db.tickers_meta.aggregate(pipeline)\n",
    "for result in results:\n",
    "    print(result)\n"
   ]
  },
  {
   "attachments": {},
   "cell_type": "markdown",
   "id": "a0e3ca6e",
   "metadata": {},
   "source": [
    "## Deleting Duplicate values in MongoDB"
   ]
  },
  {
   "cell_type": "code",
   "execution_count": 51,
   "id": "78276c6b",
   "metadata": {},
   "outputs": [],
   "source": [
    "# Delete documents with duplicate Name fields\n",
    "duplicate_names = collection.aggregate([\n",
    "    {'$group': {'_id': '$Name', 'count': {'$sum': 1}}},\n",
    "    {'$match': {'count': {'$gt': 1}}}\n",
    "])\n",
    "for document in duplicate_names:\n",
    "    collection.delete_many({'Name': document['_id']})"
   ]
  },
  {
   "cell_type": "code",
   "execution_count": 15,
   "id": "227d7188",
   "metadata": {
    "scrolled": true
   },
   "outputs": [
    {
     "data": {
      "text/plain": [
       "Index(['Symbol', 'Name', 'Last Sale', 'Net Change', '% Change', 'Market Cap',\n",
       "       'Country', 'IPO Year', 'Volume', 'Sector', 'Industry', 'Max Years'],\n",
       "      dtype='object')"
      ]
     },
     "execution_count": 15,
     "metadata": {},
     "output_type": "execute_result"
    }
   ],
   "source": [
    "df_nasdaq.columns"
   ]
  },
  {
   "attachments": {},
   "cell_type": "markdown",
   "id": "35783a9a",
   "metadata": {},
   "source": [
    "## Adding more data (update_one) into each document of tickers_meta"
   ]
  },
  {
   "cell_type": "code",
   "execution_count": 47,
   "id": "b1aaa9c7",
   "metadata": {},
   "outputs": [],
   "source": [
    "tickers_meta_document = collection.find()\n",
    "\n",
    "count = 0 \n",
    "for document in tickers_meta_document:\n",
    "    \n",
    "    if document['Symbol'] in symbols_dataset:\n",
    "        \n",
    "        symbol = document['Symbol']\n",
    "        symbol_subset = df_nasdaq[df_nasdaq['Symbol']==symbol]\n",
    "        \n",
    "        data = symbol_subset[['Net Change', \n",
    "                       '% Change', \n",
    "                       'Market Cap',\n",
    "                       'Country', \n",
    "                       'IPO Year', \n",
    "                       'Volume', \n",
    "                       'Sector', \n",
    "                       'Industry']].values[0]\n",
    "    \n",
    "        new_fields = {'Net Change': data[0], \n",
    "                       '% Change': data[1], \n",
    "                       'Market Cap': data[2],\n",
    "                       'Country': data[3], \n",
    "                       'IPO Year': data[4], \n",
    "                       'Volume': data[5], \n",
    "                       'Sector': data[6], \n",
    "                       'Industry': data[7]}\n",
    "        \n",
    "\n",
    "\n",
    "        # Update document with new fields\n",
    "        result = collection.update_one({\"Symbol\": symbol}, {\"$set\": new_fields})\n",
    "        \n",
    "        \n",
    "    else:\n",
    "        continue"
   ]
  },
  {
   "attachments": {},
   "cell_type": "markdown",
   "id": "daf032bd",
   "metadata": {},
   "source": [
    "# Cross-Cehcking whether the Tickers (Stocks) exist on yfinance API"
   ]
  },
  {
   "cell_type": "code",
   "execution_count": 12,
   "id": "d3f0abf7",
   "metadata": {},
   "outputs": [],
   "source": [
    "df_yfin_tick = pd.read_excel(\"yahoo_finance_ticker_symbol.xlsx\")"
   ]
  },
  {
   "cell_type": "code",
   "execution_count": 64,
   "id": "4161cb6e",
   "metadata": {},
   "outputs": [
    {
     "data": {
      "text/html": [
       "<div>\n",
       "<style scoped>\n",
       "    .dataframe tbody tr th:only-of-type {\n",
       "        vertical-align: middle;\n",
       "    }\n",
       "\n",
       "    .dataframe tbody tr th {\n",
       "        vertical-align: top;\n",
       "    }\n",
       "\n",
       "    .dataframe thead th {\n",
       "        text-align: right;\n",
       "    }\n",
       "</style>\n",
       "<table border=\"1\" class=\"dataframe\">\n",
       "  <thead>\n",
       "    <tr style=\"text-align: right;\">\n",
       "      <th></th>\n",
       "      <th>Ticker</th>\n",
       "      <th>Name</th>\n",
       "      <th>Exchange</th>\n",
       "      <th>Category Name</th>\n",
       "      <th>Country</th>\n",
       "    </tr>\n",
       "  </thead>\n",
       "  <tbody>\n",
       "    <tr>\n",
       "      <th>55668</th>\n",
       "      <td>CHEOF</td>\n",
       "      <td>Cochlear Limited</td>\n",
       "      <td>PNK</td>\n",
       "      <td>NaN</td>\n",
       "      <td>USA</td>\n",
       "    </tr>\n",
       "    <tr>\n",
       "      <th>4251</th>\n",
       "      <td>ZBRA</td>\n",
       "      <td>Zebra Technologies Corporation</td>\n",
       "      <td>NMS</td>\n",
       "      <td>Diversified Machinery</td>\n",
       "      <td>USA</td>\n",
       "    </tr>\n",
       "    <tr>\n",
       "      <th>76826</th>\n",
       "      <td>SFI.F</td>\n",
       "      <td>ShiFang Holding Limited</td>\n",
       "      <td>FRA</td>\n",
       "      <td>NaN</td>\n",
       "      <td>France</td>\n",
       "    </tr>\n",
       "    <tr>\n",
       "      <th>67642</th>\n",
       "      <td>FGT.DU</td>\n",
       "      <td>FENGHUA SOLETECH AG</td>\n",
       "      <td>DUS</td>\n",
       "      <td>NaN</td>\n",
       "      <td>Germany</td>\n",
       "    </tr>\n",
       "    <tr>\n",
       "      <th>91680</th>\n",
       "      <td>ORLY.MX</td>\n",
       "      <td>O'Reilly Automotive, Inc.</td>\n",
       "      <td>MEX</td>\n",
       "      <td>Specialty Retail, Other</td>\n",
       "      <td>Mexico</td>\n",
       "    </tr>\n",
       "  </tbody>\n",
       "</table>\n",
       "</div>"
      ],
      "text/plain": [
       "        Ticker                            Name Exchange  \\\n",
       "55668    CHEOF                Cochlear Limited      PNK   \n",
       "4251      ZBRA  Zebra Technologies Corporation      NMS   \n",
       "76826    SFI.F         ShiFang Holding Limited      FRA   \n",
       "67642   FGT.DU             FENGHUA SOLETECH AG      DUS   \n",
       "91680  ORLY.MX       O'Reilly Automotive, Inc.      MEX   \n",
       "\n",
       "                 Category Name  Country  \n",
       "55668                      NaN      USA  \n",
       "4251     Diversified Machinery      USA  \n",
       "76826                      NaN   France  \n",
       "67642                      NaN  Germany  \n",
       "91680  Specialty Retail, Other   Mexico  "
      ]
     },
     "execution_count": 64,
     "metadata": {},
     "output_type": "execute_result"
    }
   ],
   "source": [
    "tickers_yfin = list(df_yfin_tick.Ticker.values)\n",
    "df_yfin_tick.sample(5)"
   ]
  },
  {
   "cell_type": "code",
   "execution_count": 65,
   "id": "a9e20982",
   "metadata": {},
   "outputs": [
    {
     "data": {
      "text/plain": [
       "106328"
      ]
     },
     "execution_count": 65,
     "metadata": {},
     "output_type": "execute_result"
    }
   ],
   "source": [
    "len(df_yfin_tick)"
   ]
  },
  {
   "cell_type": "code",
   "execution_count": 66,
   "id": "ad5302ce",
   "metadata": {},
   "outputs": [],
   "source": [
    "tickers_meta_symbols = collection.find()\n",
    "\n",
    "symbols_meta = []\n",
    "for elements in tickers_meta_symbols:\n",
    "    symbols_meta.append(elements['Symbol'])\n"
   ]
  },
  {
   "cell_type": "code",
   "execution_count": 68,
   "id": "65d4a09b",
   "metadata": {},
   "outputs": [],
   "source": [
    "symbols_union = []\n",
    "for x in symbols_meta:\n",
    "    if x in tickers_yfin:\n",
    "        symbols_union.append(x)"
   ]
  },
  {
   "cell_type": "code",
   "execution_count": 69,
   "id": "797ee216",
   "metadata": {},
   "outputs": [
    {
     "data": {
      "text/plain": [
       "1758"
      ]
     },
     "execution_count": 69,
     "metadata": {},
     "output_type": "execute_result"
    }
   ],
   "source": [
    "len(symbols_union)"
   ]
  },
  {
   "attachments": {},
   "cell_type": "markdown",
   "id": "4216ac35",
   "metadata": {},
   "source": [
    "__Inserting elements from the old collection to the new collection__"
   ]
  },
  {
   "cell_type": "code",
   "execution_count": 72,
   "id": "9e00782f",
   "metadata": {},
   "outputs": [],
   "source": [
    "new_collection = db['tickers_meta_ref']\n",
    "\n",
    "for symb_i in symbols_union:\n",
    "    document = collection.find({\"Symbol\":symb_i})\n",
    "    for doc in document:\n",
    "        new_collection.insert_one(doc)"
   ]
  }
 ],
 "metadata": {
  "kernelspec": {
   "display_name": "Python 3 (ipykernel)",
   "language": "python",
   "name": "python3"
  },
  "language_info": {
   "codemirror_mode": {
    "name": "ipython",
    "version": 3
   },
   "file_extension": ".py",
   "mimetype": "text/x-python",
   "name": "python",
   "nbconvert_exporter": "python",
   "pygments_lexer": "ipython3",
   "version": "3.10.1"
  }
 },
 "nbformat": 4,
 "nbformat_minor": 5
}
